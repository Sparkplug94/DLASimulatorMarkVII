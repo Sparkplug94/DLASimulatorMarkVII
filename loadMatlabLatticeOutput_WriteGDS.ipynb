{
 "cells": [
  {
   "cell_type": "code",
   "execution_count": 9,
   "metadata": {
    "collapsed": true
   },
   "outputs": [],
   "source": [
    "#PHIDL Package imports\n",
    "from __future__ import division, print_function, absolute_import\n",
    "import numpy as np\n",
    "from phidl import Device, Layer, LayerSet, make_device\n",
    "from phidl import quickplot as qp # Rename \"quickplot()\" to the easier \"qp()\"\n",
    "import phidl.geometry as pg\n",
    "import phidl.routing as pr\n",
    "import phidl.utilities as pu\n",
    "\n",
    "import csv\n",
    "\n",
    "\n",
    "def pillar(xCenter,yCenter,xDiam,yDiam,channel):\n",
    "    pillarRow = Device('pillarRow')\n",
    "    p1 = pg.ellipse(radii = (xDiam/2,yDiam/2), angle_resolution = 2.5, layer = 1)\n",
    "    p2 = pg.ellipse(radii = (xDiam/2,yDiam/2), angle_resolution = 2.5, layer = 1)\n",
    "    c2c = channel+xDiam\n",
    "    p1.move([xCenter,yCenter])\n",
    "    p2.move([c2c+xCenter,yCenter])    \n",
    "    pillarRow << p1\n",
    "    pillarRow << p2\n",
    "    return pillarRow"
   ]
  },
  {
   "cell_type": "code",
   "execution_count": 10,
   "metadata": {
    "collapsed": false
   },
   "outputs": [],
   "source": [
    "filepath = 'C:/Users/dylan/Documents/MATLAB/DLASimulatorMarkVII/run_v6_latticeDesign_matlabExport.csv'"
   ]
  },
  {
   "cell_type": "code",
   "execution_count": 11,
   "metadata": {
    "collapsed": false
   },
   "outputs": [],
   "source": [
    "#import lattice csv as array\n",
    "#dla = 0 , drift = 1\n",
    "with open(filepath) as f:\n",
    "    csv_reader = csv.reader(f)\n",
    "    lattice = np.zeros((1,3))\n",
    "    \n",
    "    for i, line in enumerate(csv_reader):\n",
    "        #print(line)\n",
    "        lattice[i,1] = line[1]\n",
    "        lattice[i,2] = line[2]\n",
    "        if line[0] == 'DLA':\n",
    "            lattice[i,0] = 0\n",
    "            \n",
    "        elif line[0] == 'Drift':\n",
    "            lattice[i,0] = 1\n",
    "            \n",
    "        lattice = np.vstack((lattice,np.zeros((1,3))))\n",
    "    #delete last row (unused)\n",
    "    lattice = np.delete(lattice, (len(lattice)-1), axis=0)"
   ]
  },
  {
   "cell_type": "code",
   "execution_count": 12,
   "metadata": {
    "collapsed": false
   },
   "outputs": [],
   "source": [
    "#number of DLA periods\n",
    "DLAs = int(len(lattice))#-np.sum(lattice[:,0]))\n",
    "center = np.zeros(DLAs+1)"
   ]
  },
  {
   "cell_type": "code",
   "execution_count": 13,
   "metadata": {
    "collapsed": false
   },
   "outputs": [
    {
     "data": {
      "text/plain": [
       "715"
      ]
     },
     "execution_count": 13,
     "metadata": {},
     "output_type": "execute_result"
    }
   ],
   "source": [
    "len(lattice)"
   ]
  },
  {
   "cell_type": "code",
   "execution_count": 14,
   "metadata": {
    "collapsed": false
   },
   "outputs": [],
   "source": [
    "#populate list of centers\n",
    "for j in range(0,DLAs):\n",
    "    if lattice[j,0] == 0:\n",
    "        #add pillars (offset by 1 period for initial pillar)\n",
    "        center[j] = np.sum(lattice[0:j,1]);\n",
    "        #print(\"DLA\")\n",
    "    elif lattice[j,0] == 1:\n",
    "        drift = lattice[j,1]\n",
    "        center[j] = np.sum(lattice[0:j,1]);\n",
    "        #print(\"Drift\")\n",
    "        \n",
    "#add extra pillar on the end\n",
    "period_add = center[DLAs-1]-center[DLAs-2]\n",
    "center[DLAs] = center[DLAs-1]+period_add\n",
    "#print(center)"
   ]
  },
  {
   "cell_type": "code",
   "execution_count": 15,
   "metadata": {
    "collapsed": false
   },
   "outputs": [
    {
     "data": {
      "image/png": "[encoded data removed]",
      "text/plain": [
       "<matplotlib.figure.Figure at 0x161a73b5320>"
      ]
     },
     "metadata": {},
     "output_type": "display_data"
    }
   ],
   "source": [
    "channel = 0.400\n",
    "xDiam = 0.49\n",
    "yDiam = 0.8\n",
    "xPos = 0\n",
    "\n",
    "center_um = center*1e6 #convert to units of um\n",
    "period_um = np.diff(center_um)\n",
    "beta = lattice[:,2]\n",
    "shift = -0.6754*beta*period_um/(2*np.pi) #shift model from simulations\n",
    "\n",
    "#since the center_um list has an extra element added on to the end, we must add one to shift too\n",
    "shift = np.hstack((shift,shift[-1]))\n",
    "\n",
    "#device designs\n",
    "beta_cutoff = ([0.55,0.6,0.65,0.7])\n",
    "\n",
    "#test lattice\n",
    "A = Device()\n",
    "\n",
    "#construct lattice\n",
    "for j, yPos in enumerate(center_um):\n",
    "    pillarRow = pillar(xPos,yPos+shift[j],xDiam,yDiam,channel)\n",
    "    A << pillarRow\n",
    "    \n",
    "qp(A)"
   ]
  },
  {
   "cell_type": "code",
   "execution_count": null,
   "metadata": {
    "collapsed": true
   },
   "outputs": [],
   "source": []
  },
  {
   "cell_type": "code",
   "execution_count": 16,
   "metadata": {
    "collapsed": false
   },
   "outputs": [
    {
     "data": {
      "text/plain": [
       "'C:/Users/dylan/Documents/MATLAB/DLASimulatorMarkVII/run_v6_latticeDesign_matlabExport.gds'"
      ]
     },
     "execution_count": 16,
     "metadata": {},
     "output_type": "execute_result"
    }
   ],
   "source": [
    "A.flatten()\n",
    "exportpath = filepath.replace('.csv','.gds')\n",
    "A.write_gds(exportpath)"
   ]
  },
  {
   "cell_type": "code",
   "execution_count": null,
   "metadata": {
    "collapsed": true
   },
   "outputs": [],
   "source": []
  },
  {
   "cell_type": "code",
   "execution_count": null,
   "metadata": {
    "collapsed": true
   },
   "outputs": [],
   "source": []
  }
 ],
 "metadata": {
  "kernelspec": {
   "display_name": "Python 3",
   "language": "python",
   "name": "python3"
  },
  "language_info": {
   "codemirror_mode": {
    "name": "ipython",
    "version": 3
   },
   "file_extension": ".py",
   "mimetype": "text/x-python",
   "name": "python",
   "nbconvert_exporter": "python",
   "pygments_lexer": "ipython3",
   "version": "3.6.0"
  }
 },
 "nbformat": 4,
 "nbformat_minor": 2
}
