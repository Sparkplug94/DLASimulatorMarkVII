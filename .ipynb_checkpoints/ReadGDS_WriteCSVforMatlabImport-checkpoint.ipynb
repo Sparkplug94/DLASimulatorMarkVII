{
 "cells": [
  {
   "cell_type": "code",
   "execution_count": 1,
   "metadata": {
    "collapsed": false
   },
   "outputs": [],
   "source": [
    "import numpy as np\n",
    "from phidl import Device, Layer, LayerSet, make_device\n",
    "from phidl import quickplot as qp # Rename \"quickplot()\" to the easier \"qp()\"\n",
    "import phidl.geometry as pg\n",
    "import phidl.routing as pr\n",
    "import phidl.utilities as pu"
   ]
  },
  {
   "cell_type": "code",
   "execution_count": 3,
   "metadata": {
    "collapsed": false
   },
   "outputs": [],
   "source": [
    "#import entire gds file\n",
    "path = 'C:/Users/dylan/Documents/MATLAB/DLASimulatorMarkVII/GDS_readingWritingTests/run_v5_consistency_IMPORT.gds'\n",
    "exportPath = path.replace('.gds','.csv')\n",
    "E = pg.import_gds(filename = path, flatten = True)\n",
    "#visualize\n",
    "#qp(E)"
   ]
  },
  {
   "cell_type": "code",
   "execution_count": 4,
   "metadata": {
    "collapsed": true
   },
   "outputs": [],
   "source": [
    "#get list of polygons\n",
    "polylist = E.polygons"
   ]
  },
  {
   "cell_type": "code",
   "execution_count": 5,
   "metadata": {
    "collapsed": false
   },
   "outputs": [
    {
     "name": "stdout",
     "output_type": "stream",
     "text": [
      "List Size\n",
      "(4, 1434)\n"
     ]
    }
   ],
   "source": [
    "#populate exportList with centers, xdiam, and ydiam of polygons\n",
    "exportList = np.zeros((4,len(polylist)))\n",
    "print('List Size')\n",
    "print(np.shape(exportList))\n",
    "\n",
    "for i, poly in enumerate(polylist):\n",
    "    exportList[0:2,i] = poly.center\n",
    "    exportList[2,i] = poly.xsize\n",
    "    exportList[3,i] = poly.ysize"
   ]
  },
  {
   "cell_type": "code",
   "execution_count": 6,
   "metadata": {
    "collapsed": true
   },
   "outputs": [],
   "source": [
    "#save as csv\n",
    "np.savetxt(exportPath,exportList,delimiter=',')"
   ]
  },
  {
   "cell_type": "code",
   "execution_count": null,
   "metadata": {
    "collapsed": true
   },
   "outputs": [],
   "source": []
  }
 ],
 "metadata": {
  "kernelspec": {
   "display_name": "Python 3",
   "language": "python",
   "name": "python3"
  },
  "language_info": {
   "codemirror_mode": {
    "name": "ipython",
    "version": 3
   },
   "file_extension": ".py",
   "mimetype": "text/x-python",
   "name": "python",
   "nbconvert_exporter": "python",
   "pygments_lexer": "ipython3",
   "version": "3.6.0"
  }
 },
 "nbformat": 4,
 "nbformat_minor": 2
}
